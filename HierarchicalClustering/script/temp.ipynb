{
 "cells": [
  {
   "cell_type": "code",
   "execution_count": 1,
   "metadata": {},
   "outputs": [],
   "source": [
    "import pandas as pd\n",
    "import math"
   ]
  },
  {
   "cell_type": "code",
   "execution_count": 2,
   "metadata": {},
   "outputs": [],
   "source": [
    "df1 = pd.read_csv(\"../data/animals.csv\", sep=',', header=0)"
   ]
  },
  {
   "cell_type": "code",
   "execution_count": 3,
   "metadata": {},
   "outputs": [
    {
     "name": "stdout",
     "output_type": "stream",
     "text": [
      "(20, 7)\n",
      "   animal  war  fly  ver  end  gro  hai\n",
      "0     ant    1    1    1  1.0  2.0    1\n",
      "1     bee    1    2    1  1.0  2.0    2\n",
      "2     cat    2    1    2  1.0  1.0    2\n",
      "3     cpl    1    1    1  1.0  1.0    2\n",
      "4     chi    2    1    2  2.0  2.0    2\n",
      "5     cow    2    1    2  1.0  2.0    2\n",
      "6     duc    2    2    2  1.0  2.0    1\n",
      "7     eag    2    2    2  2.0  1.0    1\n",
      "8     ele    2    1    2  2.0  2.0    1\n",
      "9     fly    1    2    1  1.0  1.0    1\n",
      "10    fro    1    1    2  2.0  NaN    1\n",
      "11    her    1    1    2  1.0  2.0    1\n",
      "12    lio    2    1    2  NaN  2.0    2\n",
      "13    liz    1    1    2  1.0  1.0    1\n",
      "14    lob    1    1    1  1.0  NaN    1\n",
      "15    man    2    1    2  2.0  2.0    2\n",
      "16    rab    2    1    2  1.0  2.0    2\n",
      "17    sal    1    1    2  1.0  NaN    1\n",
      "18    spi    1    1    1  NaN  1.0    2\n",
      "19    wha    2    1    2  2.0  2.0    1\n"
     ]
    }
   ],
   "source": [
    "print(df1.shape)\n",
    "print(df1)\n"
   ]
  },
  {
   "cell_type": "code",
   "execution_count": 4,
   "metadata": {},
   "outputs": [],
   "source": [
    "# Clean up the data \n",
    "# replace NaN with 0\n",
    "df1 = df1.fillna(0)\n",
    "\n",
    "# Normalization\n",
    "\n"
   ]
  },
  {
   "cell_type": "code",
   "execution_count": 20,
   "metadata": {},
   "outputs": [],
   "source": [
    "#compute euclidean distance\n",
    "def euclideanDist(obj1, obj2):\n",
    "    '''\n",
    "    input of equal length list obj1 and obj2\n",
    "    returns square of pairwise euclidean distance for speeding up the algorithm\n",
    "    '''\n",
    "    \n",
    "    dist = 0\n",
    "    for i in range(1, len(obj1)):\n",
    "        d = (obj1[i] -obj2[i])\n",
    "        dist += d*d\n",
    "\n",
    "    return(dist)\n",
    "\n",
    "#compute UPGMA distance\n",
    "def upgma(obj1, obj2):\n",
    "    '''\n",
    "    input : list obj1 and obj2\n",
    "    returns square of pairwise euclidean distance for speeding up the algorithm\n",
    "    '''\n",
    "    \n",
    "    dist = 0\n",
    "    for i in range(0, len(obj1)):\n",
    "        for j in range(0,len(obj2)):\n",
    "            d = math.sqrt(euclideanDist(df1.iloc[obj1[i]].tolist(), df1.iloc[obj2[j]].tolist()))\n",
    "            dist += d\n",
    "\n",
    "    return(dist/(len(obj1) * len(obj2)))"
   ]
  },
  {
   "cell_type": "code",
   "execution_count": 23,
   "metadata": {},
   "outputs": [
    {
     "data": {
      "text/plain": [
       "1.0"
      ]
     },
     "execution_count": 23,
     "metadata": {},
     "output_type": "execute_result"
    }
   ],
   "source": [
    "upgma([15,4], [16,5])"
   ]
  },
  {
   "cell_type": "code",
   "execution_count": 30,
   "metadata": {},
   "outputs": [
    {
     "name": "stdout",
     "output_type": "stream",
     "text": [
      "[[0.0], [2.0, 0.0], [4.0, 4.0, 0.0], [2.0, 2.0, 2.0, 0.0], [4.0, 4.0, 2.0, 4.0, 0.0], [3.0, 3.0, 1.0, 3.0, 1.0, 0.0], [3.0, 3.0, 3.0, 5.0, 3.0, 2.0, 0.0], [5.0, 5.0, 3.0, 5.0, 3.0, 4.0, 2.0, 0.0], [3.0, 5.0, 3.0, 5.0, 1.0, 2.0, 2.0, 2.0, 0.0], [2.0, 2.0, 4.0, 2.0, 6.0, 5.0, 3.0, 3.0, 5.0, 0.0], [6.0, 8.0, 4.0, 4.0, 6.0, 7.0, 7.0, 3.0, 5.0, 4.0, 0.0], [1.0, 3.0, 3.0, 3.0, 3.0, 2.0, 2.0, 4.0, 2.0, 3.0, 5.0, 0.0], [4.0, 4.0, 2.0, 4.0, 4.0, 1.0, 3.0, 7.0, 5.0, 6.0, 10.0, 3.0, 0.0], [2.0, 4.0, 2.0, 2.0, 4.0, 3.0, 3.0, 3.0, 3.0, 2.0, 2.0, 1.0, 4.0, 0.0], [4.0, 6.0, 4.0, 2.0, 8.0, 7.0, 7.0, 5.0, 7.0, 2.0, 2.0, 5.0, 8.0, 2.0, 0.0], [4.0, 4.0, 2.0, 4.0, 0.0, 1.0, 3.0, 3.0, 1.0, 6.0, 6.0, 3.0, 4.0, 4.0, 8.0, 0.0], [3.0, 3.0, 1.0, 3.0, 1.0, 0.0, 2.0, 4.0, 2.0, 5.0, 7.0, 2.0, 1.0, 3.0, 7.0, 1.0, 0.0], [5.0, 7.0, 3.0, 3.0, 7.0, 6.0, 6.0, 4.0, 6.0, 3.0, 1.0, 4.0, 7.0, 1.0, 1.0, 7.0, 6.0, 0.0], [3.0, 3.0, 3.0, 1.0, 7.0, 4.0, 6.0, 8.0, 8.0, 3.0, 7.0, 4.0, 3.0, 3.0, 3.0, 7.0, 4.0, 4.0, 0.0], [3.0, 5.0, 3.0, 5.0, 1.0, 2.0, 2.0, 2.0, 0.0, 5.0, 5.0, 2.0, 5.0, 3.0, 7.0, 1.0, 2.0, 6.0, 8.0, 0.0]]\n",
      "0.0\n",
      "[[15, 4], [16, 5], [19, 8]]\n",
      "[[15, 4], [16, 5], [19, 8], [0], [1], [2], [3], [6], [7], [9], [10], [11], [12], [13], [14], [17], [18]]\n",
      "[[0.0], [1.0, 0.0], [1.0, 1.4142135623730951, 0.0], [2.0, 1.7320508075688772, 1.7320508075688772, 0.0], [2.0, 1.7320508075688772, 2.23606797749979, 2.0, 0.0], [1.4142135623730951, 1.0, 1.7320508075688772, 4.0, 4.0, 0.0], [2.0, 1.7320508075688772, 2.23606797749979, 2.0, 2.0, 2.0, 0.0], [1.7320508075688772, 1.4142135623730951, 1.4142135623730951, 3.0, 3.0, 3.0, 5.0, 0.0], [1.7320508075688772, 2.0, 1.4142135623730951, 5.0, 5.0, 3.0, 5.0, 2.0, 0.0], [2.449489742783178, 2.23606797749979, 2.23606797749979, 2.0, 2.0, 4.0, 2.0, 3.0, 3.0, 0.0], [2.449489742783178, 2.6457513110645907, 2.23606797749979, 6.0, 8.0, 4.0, 4.0, 7.0, 3.0, 4.0, 0.0], [1.7320508075688772, 1.4142135623730951, 1.4142135623730951, 1.0, 3.0, 3.0, 3.0, 2.0, 4.0, 3.0, 5.0, 0.0], [2.0, 1.0, 2.23606797749979, 4.0, 4.0, 2.0, 4.0, 3.0, 7.0, 6.0, 10.0, 3.0, 0.0], [2.0, 1.7320508075688772, 1.7320508075688772, 2.0, 4.0, 2.0, 2.0, 3.0, 3.0, 2.0, 2.0, 1.0, 4.0, 0.0], [2.8284271247461903, 2.6457513110645907, 2.6457513110645907, 4.0, 6.0, 4.0, 2.0, 7.0, 5.0, 2.0, 2.0, 5.0, 8.0, 2.0, 0.0], [2.6457513110645907, 2.449489742783178, 2.449489742783178, 5.0, 7.0, 3.0, 3.0, 6.0, 4.0, 3.0, 1.0, 4.0, 7.0, 1.0, 1.0, 0.0], [2.6457513110645907, 2.0, 2.8284271247461903, 3.0, 3.0, 3.0, 1.0, 6.0, 8.0, 3.0, 7.0, 4.0, 3.0, 3.0, 3.0, 4.0, 0.0]]\n",
      "1.0\n",
      "[[[16, 5], [15, 4]], [[19, 8], [15, 4]], [[2], [16, 5]], [[11], [0]], [[12], [16, 5]], [[13], [11]], [[17], [10]], [[17], [13]], [[17], [14]], [[18], [3]]]\n"
     ]
    }
   ],
   "source": [
    "# Agglomerative approach\n",
    "result_cluster = []\n",
    "\n",
    "# First pass\n",
    "\n",
    "# Compute the distance between all data points\n",
    "similarity_distance = []\n",
    "obj1 = []\n",
    "obj2 = []\n",
    "\n",
    "for i_row in range(0, df1.shape[0]):\n",
    "    distance = []\n",
    "    obj1 = df1.iloc[i_row].tolist()\n",
    "\n",
    "    for j_row in range(0, i_row+1):        \n",
    "        obj2 = df1.iloc[j_row].tolist()\n",
    "        distance.append(euclideanDist(obj1, obj2))\n",
    "\n",
    "    similarity_distance.append(distance)\n",
    "print(similarity_distance)\n",
    "\n",
    "# first find the global minimum then use that to find the related pair \n",
    "min_dist = 9999999\n",
    "min_dist_pair = []\n",
    "for i in range(0, len(similarity_distance)):\n",
    "    for j in range(0, len(similarity_distance[i])):\n",
    "        if i != j:\n",
    "            if similarity_distance[i][j] <= min_dist:\n",
    "                min_dist = similarity_distance[i][j]\n",
    "\n",
    "for i in range(0, len(similarity_distance)):\n",
    "    for j in range(0, len(similarity_distance[i])):\n",
    "        if i != j:\n",
    "            if similarity_distance[i][j] <= min_dist:\n",
    "                min_dist_pair.append([i,j])                \n",
    "\n",
    "print(min_dist)\n",
    "print(min_dist_pair)\n",
    "\n",
    "result_cluster.append(min_dist_pair)\n",
    "\n",
    "# This means all these individual pairs are clustered first but not all of them belongs to\n",
    "# the single cluster\n",
    "# I don't know how to handle this\n",
    "\n",
    "# for the second pass \n",
    "#needed to compute the distance between the just clustered pair and then remaining single ones \n",
    "\n",
    "# as an idea:\n",
    "# use the row number of the data set to form a cluster and store each row in\n",
    "# a cluster as a seperate row and use that list to decide whether it is already \n",
    "# clustered cluster or just some row that has never been clustered before \n",
    "\n",
    "#second pass \n",
    "# compute the distance between the 1st cluster vs remaining points, to compute the distance\n",
    "# between the cluster use UPGMA (unweighted pair group method using arithmatic mean)\n",
    "clustered_list = []\n",
    "for i in range(0,len(min_dist_pair)):\n",
    "    for j in range(0, len(min_dist_pair[i])):\n",
    "        clustered_list.append(min_dist_pair[i][j])\n",
    "\n",
    "new_list = []\n",
    "for i in range(0, len(min_dist_pair)):\n",
    "    new_list.append(min_dist_pair[i])\n",
    "\n",
    "for i in range(0, df1.shape[0]):\n",
    "    if i not in clustered_list:\n",
    "        new_list.append([i])\n",
    "\n",
    "print(new_list)\n",
    "\n",
    "# compute the similarity matrix:\n",
    "similarity_distance = []\n",
    "obj1 = []\n",
    "obj2 = []\n",
    "\n",
    "for i_row in range(0, len(new_list)):\n",
    "    distance = []\n",
    "    obj1 = new_list[i_row]\n",
    "\n",
    "    for j_row in range(0, i_row+1):        \n",
    "        obj2 = new_list[j_row]\n",
    "        if len(obj1) == 1 and len(obj2) == 1:\n",
    "            distance.append(euclideanDist(df1.iloc[obj1[0]].tolist(), df1.iloc[obj2[0]].tolist()))\n",
    "        else:\n",
    "            distance.append(upgma(obj1, obj2))\n",
    "\n",
    "    similarity_distance.append(distance)\n",
    "print(similarity_distance)\n",
    "\n",
    "# find the minimum distance\n",
    "# first find the global minimum then use that to find the related pair \n",
    "min_dist = 9999999\n",
    "min_dist_pair = []\n",
    "for i in range(0, len(similarity_distance)):\n",
    "    for j in range(0, len(similarity_distance[i])):\n",
    "        if i != j:\n",
    "            if similarity_distance[i][j] <= min_dist:\n",
    "                min_dist = similarity_distance[i][j]\n",
    "\n",
    "for i in range(0, len(similarity_distance)):\n",
    "    for j in range(0, len(similarity_distance[i])):\n",
    "        if i != j:\n",
    "            if similarity_distance[i][j] <= min_dist: \n",
    "                if new_list[i] in  min_dist_pair or new_list[j] in  min_dist_pair:\n",
    "                    if new_list[i] in  min_dist_pair:\n",
    "                        for i in range(0,len(min_dist_pair)):\n",
    "                            if new_list[i] in  min_dist_pair[i]:\n",
    "                                min_dist_pair[i].append(new_list[j])\n",
    "\n",
    "                else:\n",
    "                    min_dist_pair.append([new_list[i], new_list[j]]) \n",
    "\n",
    "\n",
    "print(min_dist)\n",
    "print(min_dist_pair)\n",
    "\n",
    "result_cluster.append(min_dist_pair)\n",
    "\n",
    "# print (result_cluster)"
   ]
  },
  {
   "cell_type": "code",
   "execution_count": null,
   "metadata": {},
   "outputs": [],
   "source": []
  },
  {
   "cell_type": "code",
   "execution_count": null,
   "metadata": {},
   "outputs": [],
   "source": []
  },
  {
   "cell_type": "code",
   "execution_count": null,
   "metadata": {},
   "outputs": [],
   "source": []
  },
  {
   "cell_type": "code",
   "execution_count": null,
   "metadata": {},
   "outputs": [],
   "source": []
  },
  {
   "cell_type": "code",
   "execution_count": null,
   "metadata": {},
   "outputs": [],
   "source": []
  },
  {
   "cell_type": "code",
   "execution_count": null,
   "metadata": {},
   "outputs": [],
   "source": []
  },
  {
   "cell_type": "code",
   "execution_count": null,
   "metadata": {},
   "outputs": [],
   "source": []
  }
 ],
 "metadata": {
  "kernelspec": {
   "display_name": "base",
   "language": "python",
   "name": "python3"
  },
  "language_info": {
   "codemirror_mode": {
    "name": "ipython",
    "version": 3
   },
   "file_extension": ".py",
   "mimetype": "text/x-python",
   "name": "python",
   "nbconvert_exporter": "python",
   "pygments_lexer": "ipython3",
   "version": "3.11.5"
  }
 },
 "nbformat": 4,
 "nbformat_minor": 2
}
