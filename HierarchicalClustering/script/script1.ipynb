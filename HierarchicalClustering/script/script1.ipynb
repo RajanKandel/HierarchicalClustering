{
 "cells": [
  {
   "cell_type": "code",
   "execution_count": 1,
   "metadata": {},
   "outputs": [],
   "source": [
    "import pandas as pd\n",
    "import math"
   ]
  },
  {
   "cell_type": "code",
   "execution_count": 2,
   "metadata": {},
   "outputs": [],
   "source": [
    "df1 = pd.read_csv(\"../data/animals.csv\", sep=',', header=0)"
   ]
  },
  {
   "cell_type": "code",
   "execution_count": 3,
   "metadata": {},
   "outputs": [
    {
     "name": "stdout",
     "output_type": "stream",
     "text": [
      "(20, 7)\n",
      "   animal  war  fly  ver  end  gro  hai\n",
      "0     ant    1    1    1  1.0  2.0    1\n",
      "1     bee    1    2    1  1.0  2.0    2\n",
      "2     cat    2    1    2  1.0  1.0    2\n",
      "3     cpl    1    1    1  1.0  1.0    2\n",
      "4     chi    2    1    2  2.0  2.0    2\n",
      "5     cow    2    1    2  1.0  2.0    2\n",
      "6     duc    2    2    2  1.0  2.0    1\n",
      "7     eag    2    2    2  2.0  1.0    1\n",
      "8     ele    2    1    2  2.0  2.0    1\n",
      "9     fly    1    2    1  1.0  1.0    1\n",
      "10    fro    1    1    2  2.0  NaN    1\n",
      "11    her    1    1    2  1.0  2.0    1\n",
      "12    lio    2    1    2  NaN  2.0    2\n",
      "13    liz    1    1    2  1.0  1.0    1\n",
      "14    lob    1    1    1  1.0  NaN    1\n",
      "15    man    2    1    2  2.0  2.0    2\n",
      "16    rab    2    1    2  1.0  2.0    2\n",
      "17    sal    1    1    2  1.0  NaN    1\n",
      "18    spi    1    1    1  NaN  1.0    2\n",
      "19    wha    2    1    2  2.0  2.0    1\n"
     ]
    }
   ],
   "source": [
    "print(df1.shape)\n",
    "print(df1)"
   ]
  },
  {
   "cell_type": "code",
   "execution_count": 4,
   "metadata": {},
   "outputs": [],
   "source": [
    "# Clean up the data \n",
    "# replace NaN with 0\n",
    "df1 = df1.fillna(0)\n",
    "\n",
    "## will implement my own function to normalize in future\n",
    "#normalization\n",
    "# from scipy.stats import zscore\n",
    "# # Z-score normalization\n",
    "# normalized_df = df1.apply(zscore)\n"
   ]
  },
  {
   "cell_type": "code",
   "execution_count": 5,
   "metadata": {},
   "outputs": [],
   "source": [
    "#compute euclidean distance\n",
    "def euclideanDist(obj1, obj2):\n",
    "    '''\n",
    "    input of equal length list obj1 and obj2\n",
    "    returns square of pairwise euclidean distance for speeding up the algorithm\n",
    "    '''\n",
    "    \n",
    "    dist = 0\n",
    "    for i in range(1, len(obj1)):\n",
    "        d = (obj1[i] -obj2[i])\n",
    "        dist += d*d\n",
    "\n",
    "    return(dist)\n",
    "\n",
    "#compute UPGMA distance\n",
    "def upgma(obj1, obj2):\n",
    "    '''\n",
    "    input : list obj1 and obj2\n",
    "    returns square of pairwise euclidean distance for speeding up the algorithm\n",
    "    '''\n",
    "    \n",
    "    dist = 0\n",
    "    for i in range(0, len(obj1)):\n",
    "        for j in range(0,len(obj2)):\n",
    "            d = math.sqrt(euclideanDist(df1.iloc[obj1[i]].tolist(), df1.iloc[obj2[j]].tolist()))\n",
    "            dist += d\n",
    "\n",
    "    return(dist/(len(obj1) * len(obj2)))"
   ]
  },
  {
   "cell_type": "code",
   "execution_count": 6,
   "metadata": {},
   "outputs": [
    {
     "name": "stdout",
     "output_type": "stream",
     "text": [
      "2.0\n",
      "1.0\n"
     ]
    }
   ],
   "source": [
    "#testing the functions return above independently\n",
    "print(euclideanDist(['point1', 2.0, 1],['point2', 3, 0]))\n",
    "print(upgma([15,4], [16,5]))"
   ]
  },
  {
   "cell_type": "code",
   "execution_count": 7,
   "metadata": {},
   "outputs": [],
   "source": [
    "# Agglomerative approach\n",
    "result_cluster = []"
   ]
  },
  {
   "cell_type": "code",
   "execution_count": 8,
   "metadata": {},
   "outputs": [],
   "source": [
    "# compute the distance between all points\n",
    "def findSimilarityMatrix(obj3):\n",
    "    '''\n",
    "    input : list obj3 which is the list of list\n",
    "    returns similarity matrix i.e list in the form lower traingular matrix\n",
    "    '''\n",
    "    similarity_distance = []\n",
    "    obj1 = []\n",
    "    obj2 = []\n",
    "\n",
    "    for i_row in range(0, len(obj3)):\n",
    "        distance = []\n",
    "        obj1 = obj3[i_row]\n",
    "\n",
    "        for j_row in range(0, i_row+1):        \n",
    "            obj2 = obj3[j_row]\n",
    "            if len(obj1) == 1 and len(obj2) == 1:\n",
    "                distance.append(euclideanDist(df1.iloc[obj1[0]].tolist(), df1.iloc[obj2[0]].tolist()))\n",
    "            else:\n",
    "                distance.append(upgma(obj1, obj2))\n",
    "\n",
    "        similarity_distance.append(distance)\n",
    "    # print(similarity_distance)\n",
    "\n",
    "    return(similarity_distance)\n"
   ]
  },
  {
   "cell_type": "code",
   "execution_count": 9,
   "metadata": {},
   "outputs": [
    {
     "name": "stdout",
     "output_type": "stream",
     "text": [
      "[[0.0], [1.0, 0.0], [1.0, 1.4142135623730951, 0.0], [2.0, 1.7320508075688772, 1.7320508075688772, 0.0], [2.0, 1.7320508075688772, 2.23606797749979, 2.0, 0.0], [1.4142135623730951, 1.0, 1.7320508075688772, 4.0, 4.0, 0.0], [2.0, 1.7320508075688772, 2.23606797749979, 2.0, 2.0, 2.0, 0.0], [1.7320508075688772, 1.4142135623730951, 1.4142135623730951, 3.0, 3.0, 3.0, 5.0, 0.0], [1.7320508075688772, 2.0, 1.4142135623730951, 5.0, 5.0, 3.0, 5.0, 2.0, 0.0], [2.449489742783178, 2.23606797749979, 2.23606797749979, 2.0, 2.0, 4.0, 2.0, 3.0, 3.0, 0.0], [2.449489742783178, 2.6457513110645907, 2.23606797749979, 6.0, 8.0, 4.0, 4.0, 7.0, 3.0, 4.0, 0.0], [1.7320508075688772, 1.4142135623730951, 1.4142135623730951, 1.0, 3.0, 3.0, 3.0, 2.0, 4.0, 3.0, 5.0, 0.0], [2.0, 1.0, 2.23606797749979, 4.0, 4.0, 2.0, 4.0, 3.0, 7.0, 6.0, 10.0, 3.0, 0.0], [2.0, 1.7320508075688772, 1.7320508075688772, 2.0, 4.0, 2.0, 2.0, 3.0, 3.0, 2.0, 2.0, 1.0, 4.0, 0.0], [2.8284271247461903, 2.6457513110645907, 2.6457513110645907, 4.0, 6.0, 4.0, 2.0, 7.0, 5.0, 2.0, 2.0, 5.0, 8.0, 2.0, 0.0], [2.6457513110645907, 2.449489742783178, 2.449489742783178, 5.0, 7.0, 3.0, 3.0, 6.0, 4.0, 3.0, 1.0, 4.0, 7.0, 1.0, 1.0, 0.0], [2.6457513110645907, 2.0, 2.8284271247461903, 3.0, 3.0, 3.0, 1.0, 6.0, 8.0, 3.0, 7.0, 4.0, 3.0, 3.0, 3.0, 4.0, 0.0]]\n"
     ]
    }
   ],
   "source": [
    "#testing functions above independently \n",
    "cluster_temp = [[15, 4], [16, 5], [19, 8], [0], [1], [2], [3], [6], [7], [9], [10], [11], [12], [13], [14], [17], [18]]\n",
    "print(findSimilarityMatrix(cluster_temp))"
   ]
  },
  {
   "cell_type": "code",
   "execution_count": 10,
   "metadata": {},
   "outputs": [],
   "source": [
    "#find minimum distance in the similarity distance and pairing\n",
    "def findMinDistPair(similarity_distance, in_cluster): \n",
    "    '''\n",
    "    input : cluster and lower traingular similarity matrix\n",
    "    returns pairs of min distance values \n",
    "    '''\n",
    "    min_dist = 9999999\n",
    "    min_dist_pair = []\n",
    "    for i in range(0, len(similarity_distance)):\n",
    "        for j in range(0, len(similarity_distance[i])):\n",
    "            if i != j:\n",
    "                if similarity_distance[i][j] <= min_dist:\n",
    "                    min_dist = similarity_distance[i][j]\n",
    "\n",
    "    for i in range(0, len(similarity_distance)):\n",
    "        for j in range(0, len(similarity_distance[i])):\n",
    "            if i != j:\n",
    "                if similarity_distance[i][j] <= min_dist:\n",
    "                    pair_found = [i,j]\n",
    "                    min_dist_pair.append(pair_found)\n",
    "\n",
    "    print(min_dist)\n",
    "    print(min_dist_pair)    \n",
    "    #cleaning the min-dist_pair \n",
    "    ''' example1: pair [15,10],[13,15],[14,15] should belong to the one group [10,13,14,15]\n",
    "        example2: pair [11,3],[13,11],[15,10],[15,13],[15,14] should belong to the one group [11,3,13,15,10,14]'''\n",
    "\n",
    "    clustered_pair = []\n",
    "    for count in range (0, 3):  #do this until new_min_dist_pair starts to repeat, this loop was implemented to accomodate example2   \n",
    "        for i in range(0,len(min_dist_pair)):\n",
    "            for j in range(0, len(min_dist_pair[i])):\n",
    "                clustered_pair.append(min_dist_pair[i][j])\n",
    "\n",
    "        new_min_dist_pair = []\n",
    "        for i in range(0, len(min_dist_pair)):\n",
    "            pair =[]\n",
    "            case1 = False\n",
    "            for j in range(0, len(min_dist_pair[i])):\n",
    "\n",
    "                for k in range(0, len(new_min_dist_pair)):\n",
    "                    if min_dist_pair[i][j] in new_min_dist_pair[k]:\n",
    "                        for l in range(0, len(min_dist_pair[i])):\n",
    "                            if l != j:\n",
    "                                new_min_dist_pair[k].append(min_dist_pair[i][l])\n",
    "                        case1 = True\n",
    "                        break\n",
    "                \n",
    "                if case1:\n",
    "                    break\n",
    "                else:\n",
    "                    pair.append(min_dist_pair[i][j])\n",
    "            \n",
    "            if not case1:\n",
    "                new_min_dist_pair.append(pair)\n",
    "        min_dist_pair =new_min_dist_pair\n",
    "    print(new_min_dist_pair)\n",
    "\n",
    "    #complete the new_min_dist_pair \n",
    "    for i in range(0, len(in_cluster)):\n",
    "        case2 =False\n",
    "        for j in range(0, len(new_min_dist_pair)):\n",
    "            if i in new_min_dist_pair[j]:\n",
    "                case2 = True\n",
    "                break\n",
    "        \n",
    "        if not case2:\n",
    "            new_min_dist_pair.append([i])\n",
    "    print(new_min_dist_pair)\n",
    "\n",
    "    #if any of the row is previously formed group break it open\n",
    "    out_cluster =[] \n",
    "    for i in range(0, len(new_min_dist_pair)):\n",
    "        cluster =[]\n",
    "        for j in range(0, len(new_min_dist_pair[i])):\n",
    "            if len(in_cluster[new_min_dist_pair[i][j]]) >1:\n",
    "                for k in range(0, len(in_cluster[new_min_dist_pair[i][j]])):\n",
    "                    cluster.append(in_cluster[new_min_dist_pair[i][j]][k])\n",
    "\n",
    "            else:\n",
    "                cluster.append(in_cluster[new_min_dist_pair[i][j]][0])\n",
    "\n",
    "        out_cluster.append(cluster)\n",
    "\n",
    "    print(out_cluster)\n",
    "    return(out_cluster)"
   ]
  },
  {
   "cell_type": "code",
   "execution_count": 11,
   "metadata": {},
   "outputs": [
    {
     "name": "stdout",
     "output_type": "stream",
     "text": [
      "1.0\n",
      "[[1, 0], [2, 0], [5, 1], [11, 3], [12, 1], [13, 11], [15, 10], [15, 13], [15, 14], [16, 6]]\n",
      "[[1, 0, 2, 5, 12], [11, 3, 13, 15, 10, 14], [16, 6]]\n",
      "[[1, 0, 2, 5, 12], [11, 3, 13, 15, 10, 14], [16, 6], [4], [7], [8], [9]]\n",
      "[[16, 5, 15, 4, 19, 8, 2, 12], [11, 0, 13, 17, 10, 14], [18, 3], [1], [6], [7], [9]]\n",
      "[[16, 5, 15, 4, 19, 8, 2, 12], [11, 0, 13, 17, 10, 14], [18, 3], [1], [6], [7], [9]]\n"
     ]
    }
   ],
   "source": [
    "#testing functions above independently \n",
    "similarity_distance = [[0.0], [1.0, 0.0], [1.0, 1.4142135623730951, 0.0], [2.0, 1.7320508075688772, 1.7320508075688772, 0.0], [2.0, 1.7320508075688772, 2.23606797749979, 2.0, 0.0], [1.4142135623730951, 1.0, 1.7320508075688772, 4.0, 4.0, 0.0], [2.0, 1.7320508075688772, 2.23606797749979, 2.0, 2.0, 2.0, 0.0], [1.7320508075688772, 1.4142135623730951, 1.4142135623730951, 3.0, 3.0, 3.0, 5.0, 0.0], [1.7320508075688772, 2.0, 1.4142135623730951, 5.0, 5.0, 3.0, 5.0, 2.0, 0.0], [2.449489742783178, 2.23606797749979, 2.23606797749979, 2.0, 2.0, 4.0, 2.0, 3.0, 3.0, 0.0], [2.449489742783178, 2.6457513110645907, 2.23606797749979, 6.0, 8.0, 4.0, 4.0, 7.0, 3.0, 4.0, 0.0], [1.7320508075688772, 1.4142135623730951, 1.4142135623730951, 1.0, 3.0, 3.0, 3.0, 2.0, 4.0, 3.0, 5.0, 0.0], [2.0, 1.0, 2.23606797749979, 4.0, 4.0, 2.0, 4.0, 3.0, 7.0, 6.0, 10.0, 3.0, 0.0], [2.0, 1.7320508075688772, 1.7320508075688772, 2.0, 4.0, 2.0, 2.0, 3.0, 3.0, 2.0, 2.0, 1.0, 4.0, 0.0], [2.8284271247461903, 2.6457513110645907, 2.6457513110645907, 4.0, 6.0, 4.0, 2.0, 7.0, 5.0, 2.0, 2.0, 5.0, 8.0, 2.0, 0.0], [2.6457513110645907, 2.449489742783178, 2.449489742783178, 5.0, 7.0, 3.0, 3.0, 6.0, 4.0, 3.0, 1.0, 4.0, 7.0, 1.0, 1.0, 0.0], [2.6457513110645907, 2.0, 2.8284271247461903, 3.0, 3.0, 3.0, 1.0, 6.0, 8.0, 3.0, 7.0, 4.0, 3.0, 3.0, 3.0, 4.0, 0.0]]\n",
    "print(findMinDistPair(similarity_distance, [[15, 4], [16, 5], [19, 8], [0], [1], [2], [3], [6], [7], [9], [10], [11], [12], [13], [14], [17], [18]]))"
   ]
  },
  {
   "cell_type": "code",
   "execution_count": 12,
   "metadata": {},
   "outputs": [
    {
     "name": "stdout",
     "output_type": "stream",
     "text": [
      "0.0\n",
      "[[15, 4], [16, 5], [19, 8]]\n",
      "[[15, 4], [16, 5], [19, 8]]\n",
      "[[15, 4], [16, 5], [19, 8], [0], [1], [2], [3], [6], [7], [9], [10], [11], [12], [13], [14], [17], [18]]\n",
      "[[15, 4], [16, 5], [19, 8], [0], [1], [2], [3], [6], [7], [9], [10], [11], [12], [13], [14], [17], [18]]\n",
      "1.0\n",
      "[[1, 0], [2, 0], [5, 1], [11, 3], [12, 1], [13, 11], [15, 10], [15, 13], [15, 14], [16, 6]]\n",
      "[[1, 0, 2, 5, 12], [11, 3, 13, 15, 10, 14], [16, 6]]\n",
      "[[1, 0, 2, 5, 12], [11, 3, 13, 15, 10, 14], [16, 6], [4], [7], [8], [9]]\n",
      "[[16, 5, 15, 4, 19, 8, 2, 12], [11, 0, 13, 17, 10, 14], [18, 3], [1], [6], [7], [9]]\n",
      "1.0\n",
      "[[1, 0], [2, 0], [5, 1], [11, 3], [12, 1], [13, 11], [15, 10], [15, 13], [15, 14], [16, 6]]\n",
      "[[1, 0, 2, 5, 12], [11, 3, 13, 15, 10, 14], [16, 6]]\n",
      "[[1, 0, 2, 5, 12], [11, 3, 13, 15, 10, 14], [16, 6], [4], [7], [8], [9]]\n",
      "[[16, 5, 15, 4, 19, 8, 2, 12], [11, 0, 13, 17, 10, 14], [18, 3], [1], [6], [7], [9]]\n",
      "[[16, 5, 15, 4, 19, 8, 2, 12], [11, 0, 13, 17, 10, 14], [18, 3], [1], [6], [7], [9]]\n",
      "1.573132184970986\n",
      "[[4, 0]]\n",
      "[[4, 0]]\n",
      "[[4, 0], [1], [2], [3], [5], [6]]\n",
      "[[6, 16, 5, 15, 4, 19, 8, 2, 12], [11, 0, 13, 17, 10, 14], [18, 3], [1], [7], [9]]\n",
      "1.573132184970986\n",
      "[[4, 0]]\n",
      "[[4, 0]]\n",
      "[[4, 0], [1], [2], [3], [5], [6]]\n",
      "[[6, 16, 5, 15, 4, 19, 8, 2, 12], [11, 0, 13, 17, 10, 14], [18, 3], [1], [7], [9]]\n",
      "[[6, 16, 5, 15, 4, 19, 8, 2, 12], [11, 0, 13, 17, 10, 14], [18, 3], [1], [7], [9]]\n",
      "1.5731321849709863\n",
      "[[3, 2], [5, 2]]\n",
      "[[3, 2, 5]]\n",
      "[[3, 2, 5], [0], [1], [4]]\n",
      "[[1, 18, 3, 9], [6, 16, 5, 15, 4, 19, 8, 2, 12], [11, 0, 13, 17, 10, 14], [7]]\n",
      "1.5731321849709863\n",
      "[[3, 2], [5, 2]]\n",
      "[[3, 2, 5]]\n",
      "[[3, 2, 5], [0], [1], [4]]\n",
      "[[1, 18, 3, 9], [6, 16, 5, 15, 4, 19, 8, 2, 12], [11, 0, 13, 17, 10, 14], [7]]\n",
      "[[1, 18, 3, 9], [6, 16, 5, 15, 4, 19, 8, 2, 12], [11, 0, 13, 17, 10, 14], [7]]\n",
      "1.7871716023211677\n",
      "[[3, 1]]\n",
      "[[3, 1]]\n",
      "[[3, 1], [0], [2]]\n",
      "[[7, 6, 16, 5, 15, 4, 19, 8, 2, 12], [1, 18, 3, 9], [11, 0, 13, 17, 10, 14]]\n",
      "1.7871716023211677\n",
      "[[3, 1]]\n",
      "[[3, 1]]\n",
      "[[3, 1], [0], [2]]\n",
      "[[7, 6, 16, 5, 15, 4, 19, 8, 2, 12], [1, 18, 3, 9], [11, 0, 13, 17, 10, 14]]\n",
      "[[7, 6, 16, 5, 15, 4, 19, 8, 2, 12], [1, 18, 3, 9], [11, 0, 13, 17, 10, 14]]\n"
     ]
    }
   ],
   "source": [
    "#################Testing idea manually -sanity check #################################\n",
    "#first pass \n",
    "\n",
    "# bin ing every data points into their own cluster\n",
    "cluster1 = []\n",
    "for i_row in range(0, df1.shape[0]):\n",
    "    cluster1.append([i_row])\n",
    "\n",
    "#find similarity matrix\n",
    "similarity_distance = findSimilarityMatrix(cluster1)\n",
    "result_cluster.append(findMinDistPair(similarity_distance, cluster1))\n",
    "\n",
    "\n",
    "#second pass \n",
    "cluster2 = result_cluster[0]\n",
    "similarity_distance = findSimilarityMatrix(cluster2)\n",
    "result_cluster.append(findMinDistPair(similarity_distance, cluster2))\n",
    "print(findMinDistPair(similarity_distance, cluster2))\n",
    "\n",
    "#third pass \n",
    "cluster3 = result_cluster[1]\n",
    "similarity_distance = findSimilarityMatrix(cluster3)\n",
    "result_cluster.append(findMinDistPair(similarity_distance, cluster3))\n",
    "print(findMinDistPair(similarity_distance, cluster3))\n",
    "\n",
    "\n",
    "#fourth pass \n",
    "cluster4 = result_cluster[2]\n",
    "similarity_distance = findSimilarityMatrix(cluster4)\n",
    "result_cluster.append(findMinDistPair(similarity_distance, cluster4))\n",
    "print(findMinDistPair(similarity_distance, cluster4))\n",
    "\n",
    "\n",
    "#fifth pass \n",
    "cluster5 = result_cluster[3]\n",
    "similarity_distance = findSimilarityMatrix(cluster5)\n",
    "result_cluster.append(findMinDistPair(similarity_distance, cluster5))\n",
    "print(findMinDistPair(similarity_distance, cluster5))\n",
    "\n"
   ]
  },
  {
   "cell_type": "code",
   "execution_count": 13,
   "metadata": {},
   "outputs": [
    {
     "name": "stdout",
     "output_type": "stream",
     "text": [
      "0.0\n",
      "[[15, 4], [16, 5], [19, 8]]\n",
      "[[15, 4], [16, 5], [19, 8]]\n",
      "[[15, 4], [16, 5], [19, 8], [0], [1], [2], [3], [6], [7], [9], [10], [11], [12], [13], [14], [17], [18]]\n",
      "[[15, 4], [16, 5], [19, 8], [0], [1], [2], [3], [6], [7], [9], [10], [11], [12], [13], [14], [17], [18]]\n",
      "1.0\n",
      "[[1, 0], [2, 0], [5, 1], [11, 3], [12, 1], [13, 11], [15, 10], [15, 13], [15, 14], [16, 6]]\n",
      "[[1, 0, 2, 5, 12], [11, 3, 13, 15, 10, 14], [16, 6]]\n",
      "[[1, 0, 2, 5, 12], [11, 3, 13, 15, 10, 14], [16, 6], [4], [7], [8], [9]]\n",
      "[[16, 5, 15, 4, 19, 8, 2, 12], [11, 0, 13, 17, 10, 14], [18, 3], [1], [6], [7], [9]]\n",
      "1.573132184970986\n",
      "[[4, 0]]\n",
      "[[4, 0]]\n",
      "[[4, 0], [1], [2], [3], [5], [6]]\n",
      "[[6, 16, 5, 15, 4, 19, 8, 2, 12], [11, 0, 13, 17, 10, 14], [18, 3], [1], [7], [9]]\n",
      "1.5731321849709863\n",
      "[[3, 2], [5, 2]]\n",
      "[[3, 2, 5]]\n",
      "[[3, 2, 5], [0], [1], [4]]\n",
      "[[1, 18, 3, 9], [6, 16, 5, 15, 4, 19, 8, 2, 12], [11, 0, 13, 17, 10, 14], [7]]\n",
      "1.7871716023211677\n",
      "[[3, 1]]\n",
      "[[3, 1]]\n",
      "[[3, 1], [0], [2]]\n",
      "[[7, 6, 16, 5, 15, 4, 19, 8, 2, 12], [1, 18, 3, 9], [11, 0, 13, 17, 10, 14]]\n",
      "1.846888370284218\n",
      "[[2, 1]]\n",
      "[[2, 1]]\n",
      "[[2, 1], [0]]\n",
      "[[11, 0, 13, 17, 10, 14, 1, 18, 3, 9], [7, 6, 16, 5, 15, 4, 19, 8, 2, 12]]\n",
      "2.119458302189995\n",
      "[[1, 0]]\n",
      "[[1, 0]]\n",
      "[[1, 0]]\n",
      "[[7, 6, 16, 5, 15, 4, 19, 8, 2, 12, 11, 0, 13, 17, 10, 14, 1, 18, 3, 9]]\n"
     ]
    }
   ],
   "source": [
    "#first pass \n",
    "# bin ing every data points into their own cluster\n",
    "cluster1 = []\n",
    "for i_row in range(0, df1.shape[0]):\n",
    "    cluster1.append([i_row])\n",
    "\n",
    "############### input for dendogram ###############################\n",
    "result_cluster=[]\n",
    "cluster_temp = []\n",
    "for i in range(0, df1.shape[0]):\n",
    "    if i==0:\n",
    "        cluster_temp = cluster1\n",
    "    else:\n",
    "        cluster_temp = result_cluster[i-1]\n",
    "\n",
    "    similarity_distance = findSimilarityMatrix(cluster_temp)\n",
    "    result_cluster.append(findMinDistPair(similarity_distance, cluster_temp))\n",
    "   \n",
    "    # print(f\"value of i is{i}\")\n",
    "    if len(result_cluster[-1][-1]) == df1.shape[0]:\n",
    "        break"
   ]
  },
  {
   "cell_type": "code",
   "execution_count": null,
   "metadata": {},
   "outputs": [],
   "source": []
  },
  {
   "cell_type": "code",
   "execution_count": null,
   "metadata": {},
   "outputs": [],
   "source": []
  }
 ],
 "metadata": {
  "kernelspec": {
   "display_name": "base",
   "language": "python",
   "name": "python3"
  },
  "language_info": {
   "codemirror_mode": {
    "name": "ipython",
    "version": 3
   },
   "file_extension": ".py",
   "mimetype": "text/x-python",
   "name": "python",
   "nbconvert_exporter": "python",
   "pygments_lexer": "ipython3",
   "version": "3.11.5"
  }
 },
 "nbformat": 4,
 "nbformat_minor": 2
}
