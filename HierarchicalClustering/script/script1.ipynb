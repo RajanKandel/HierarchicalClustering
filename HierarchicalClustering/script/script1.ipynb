{
 "cells": [
  {
   "cell_type": "code",
   "execution_count": 1,
   "metadata": {},
   "outputs": [],
   "source": [
    "import pandas as pd\n",
    "import math"
   ]
  },
  {
   "cell_type": "code",
   "execution_count": 2,
   "metadata": {},
   "outputs": [],
   "source": [
    "df1 = pd.read_csv(\"../data/animals.csv\", sep=',', header=0)"
   ]
  },
  {
   "cell_type": "code",
   "execution_count": 3,
   "metadata": {},
   "outputs": [
    {
     "name": "stdout",
     "output_type": "stream",
     "text": [
      "(20, 7)\n",
      "   animal  war  fly  ver  end  gro  hai\n",
      "0     ant    1    1    1  1.0  2.0    1\n",
      "1     bee    1    2    1  1.0  2.0    2\n",
      "2     cat    2    1    2  1.0  1.0    2\n",
      "3     cpl    1    1    1  1.0  1.0    2\n",
      "4     chi    2    1    2  2.0  2.0    2\n",
      "5     cow    2    1    2  1.0  2.0    2\n",
      "6     duc    2    2    2  1.0  2.0    1\n",
      "7     eag    2    2    2  2.0  1.0    1\n",
      "8     ele    2    1    2  2.0  2.0    1\n",
      "9     fly    1    2    1  1.0  1.0    1\n",
      "10    fro    1    1    2  2.0  NaN    1\n",
      "11    her    1    1    2  1.0  2.0    1\n",
      "12    lio    2    1    2  NaN  2.0    2\n",
      "13    liz    1    1    2  1.0  1.0    1\n",
      "14    lob    1    1    1  1.0  NaN    1\n",
      "15    man    2    1    2  2.0  2.0    2\n",
      "16    rab    2    1    2  1.0  2.0    2\n",
      "17    sal    1    1    2  1.0  NaN    1\n",
      "18    spi    1    1    1  NaN  1.0    2\n",
      "19    wha    2    1    2  2.0  2.0    1\n"
     ]
    }
   ],
   "source": [
    "print(df1.shape)\n",
    "print(df1)"
   ]
  },
  {
   "cell_type": "code",
   "execution_count": 4,
   "metadata": {},
   "outputs": [],
   "source": [
    "# Clean up the data \n",
    "# replace NaN with 0\n",
    "df1 = df1.fillna(0)\n",
    "\n",
    "## will implement my own function to normalize in future\n",
    "#normalization\n",
    "from scipy.stats import zscore\n",
    "# Z-score normalization\n",
    "normalized_df = df1.apply(zscore)\n"
   ]
  },
  {
   "cell_type": "code",
   "execution_count": 5,
   "metadata": {},
   "outputs": [],
   "source": [
    "#compute euclidean distance\n",
    "def euclideanDist(obj1, obj2):\n",
    "    '''\n",
    "    input of equal length list obj1 and obj2\n",
    "    returns square of pairwise euclidean distance for speeding up the algorithm\n",
    "    '''\n",
    "    \n",
    "    dist = 0\n",
    "    for i in range(1, len(obj1)):\n",
    "        d = (obj1[i] -obj2[i])\n",
    "        dist += d*d\n",
    "\n",
    "    return(dist)\n",
    "\n",
    "#compute UPGMA distance\n",
    "def upgma(obj1, obj2):\n",
    "    '''\n",
    "    input : list obj1 and obj2\n",
    "    returns square of pairwise euclidean distance for speeding up the algorithm\n",
    "    '''\n",
    "    \n",
    "    dist = 0\n",
    "    for i in range(0, len(obj1)):\n",
    "        for j in range(0,len(obj2)):\n",
    "            d = math.sqrt(euclideanDist(df1.iloc[obj1[i]].tolist(), df1.iloc[obj2[j]].tolist()))\n",
    "            dist += d\n",
    "\n",
    "    return(dist/(len(obj1) * len(obj2)))"
   ]
  },
  {
   "cell_type": "code",
   "execution_count": 6,
   "metadata": {},
   "outputs": [
    {
     "name": "stdout",
     "output_type": "stream",
     "text": [
      "2.0\n",
      "1.0\n"
     ]
    }
   ],
   "source": [
    "#testing the functions return above independently\n",
    "print(euclideanDist(['point1', 2.0, 1],['point2', 3, 0]))\n",
    "print(upgma([15,4], [16,5]))"
   ]
  },
  {
   "cell_type": "code",
   "execution_count": 7,
   "metadata": {},
   "outputs": [],
   "source": [
    "# Agglomerative approach\n",
    "result_cluster = []"
   ]
  },
  {
   "cell_type": "code",
   "execution_count": 8,
   "metadata": {},
   "outputs": [],
   "source": [
    "# compute the distance between all points\n",
    "def findSimilarityMatrix(obj3):\n",
    "    '''\n",
    "    input : list obj3 which is the list of list\n",
    "    returns similarity matrix i.e list in the form lower traingular matrix\n",
    "    '''\n",
    "    similarity_distance = []\n",
    "    obj1 = []\n",
    "    obj2 = []\n",
    "\n",
    "    for i_row in range(0, len(obj3)):\n",
    "        distance = []\n",
    "        obj1 = obj3[i_row]\n",
    "\n",
    "        for j_row in range(0, i_row+1):        \n",
    "            obj2 = obj3[j_row]\n",
    "            if len(obj1) == 1 and len(obj2) == 1:\n",
    "                distance.append(euclideanDist(df1.iloc[obj1[0]].tolist(), df1.iloc[obj2[0]].tolist()))\n",
    "            else:\n",
    "                distance.append(upgma(obj1, obj2))\n",
    "\n",
    "        similarity_distance.append(distance)\n",
    "    # print(similarity_distance)\n",
    "\n",
    "    return(similarity_distance)\n"
   ]
  },
  {
   "cell_type": "code",
   "execution_count": 9,
   "metadata": {},
   "outputs": [
    {
     "name": "stdout",
     "output_type": "stream",
     "text": [
      "[[0.0], [1.0, 0.0], [1.0, 1.4142135623730951, 0.0], [2.0, 1.7320508075688772, 1.7320508075688772, 0.0], [2.0, 1.7320508075688772, 2.23606797749979, 2.0, 0.0], [1.4142135623730951, 1.0, 1.7320508075688772, 4.0, 4.0, 0.0], [2.0, 1.7320508075688772, 2.23606797749979, 2.0, 2.0, 2.0, 0.0], [1.7320508075688772, 1.4142135623730951, 1.4142135623730951, 3.0, 3.0, 3.0, 5.0, 0.0], [1.7320508075688772, 2.0, 1.4142135623730951, 5.0, 5.0, 3.0, 5.0, 2.0, 0.0], [2.449489742783178, 2.23606797749979, 2.23606797749979, 2.0, 2.0, 4.0, 2.0, 3.0, 3.0, 0.0], [2.449489742783178, 2.6457513110645907, 2.23606797749979, 6.0, 8.0, 4.0, 4.0, 7.0, 3.0, 4.0, 0.0], [1.7320508075688772, 1.4142135623730951, 1.4142135623730951, 1.0, 3.0, 3.0, 3.0, 2.0, 4.0, 3.0, 5.0, 0.0], [2.0, 1.0, 2.23606797749979, 4.0, 4.0, 2.0, 4.0, 3.0, 7.0, 6.0, 10.0, 3.0, 0.0], [2.0, 1.7320508075688772, 1.7320508075688772, 2.0, 4.0, 2.0, 2.0, 3.0, 3.0, 2.0, 2.0, 1.0, 4.0, 0.0], [2.8284271247461903, 2.6457513110645907, 2.6457513110645907, 4.0, 6.0, 4.0, 2.0, 7.0, 5.0, 2.0, 2.0, 5.0, 8.0, 2.0, 0.0], [2.6457513110645907, 2.449489742783178, 2.449489742783178, 5.0, 7.0, 3.0, 3.0, 6.0, 4.0, 3.0, 1.0, 4.0, 7.0, 1.0, 1.0, 0.0], [2.6457513110645907, 2.0, 2.8284271247461903, 3.0, 3.0, 3.0, 1.0, 6.0, 8.0, 3.0, 7.0, 4.0, 3.0, 3.0, 3.0, 4.0, 0.0]]\n"
     ]
    }
   ],
   "source": [
    "#testing functions above independently \n",
    "cluster_temp = [[15, 4], [16, 5], [19, 8], [0], [1], [2], [3], [6], [7], [9], [10], [11], [12], [13], [14], [17], [18]]\n",
    "print(findSimilarityMatrix(cluster_temp))"
   ]
  },
  {
   "cell_type": "code",
   "execution_count": 15,
   "metadata": {},
   "outputs": [],
   "source": [
    "#find the minimum distance in the similarity distance and pairing\n",
    "def findMinDistPair(similarity_distance): \n",
    "    '''\n",
    "    input : lower traingular similarity matrix\n",
    "    returns pairs of min distance values \n",
    "    '''\n",
    "    min_dist = 9999999\n",
    "    min_dist_pair = []\n",
    "    for i in range(0, len(similarity_distance)):\n",
    "        for j in range(0, len(similarity_distance[i])):\n",
    "            if i != j:\n",
    "                if similarity_distance[i][j] <= min_dist:\n",
    "                    min_dist = similarity_distance[i][j]\n",
    "\n",
    "    for i in range(0, len(similarity_distance)):\n",
    "        for j in range(0, len(similarity_distance[i])):\n",
    "            if i != j:\n",
    "                if similarity_distance[i][j] <= min_dist:\n",
    "                    min_dist_pair.append([i,j])                \n",
    "\n",
    "    print(min_dist)\n",
    "    print(min_dist_pair)\n",
    "\n",
    "    # this is not working correctly...................\n",
    "    # return the newly formed clusters \n",
    "    clustered_list = []\n",
    "    for i in range(0,len(min_dist_pair)):\n",
    "        for j in range(0, len(min_dist_pair[i])):\n",
    "            clustered_list.append(min_dist_pair[i][j])\n",
    "\n",
    "    new_list = []\n",
    "    for i in range(0, len(min_dist_pair)):\n",
    "        new_list.append(min_dist_pair[i])\n",
    "\n",
    "    for i in range(0, df1.shape[0]):\n",
    "        if i not in clustered_list:\n",
    "            new_list.append([i])\n",
    "\n",
    "    print(new_list)\n",
    "\n",
    "    return(new_list)"
   ]
  },
  {
   "cell_type": "code",
   "execution_count": 16,
   "metadata": {},
   "outputs": [
    {
     "name": "stdout",
     "output_type": "stream",
     "text": [
      "1.0\n",
      "[[1, 0], [2, 0], [5, 1], [11, 3], [12, 1], [13, 11], [15, 10], [15, 13], [15, 14], [16, 6]]\n",
      "[[1, 0], [2, 0], [5, 1], [11, 3], [12, 1], [13, 11], [15, 10], [15, 13], [15, 14], [16, 6], [4], [7], [8], [9], [17], [18], [19]]\n",
      "[[1, 0], [2, 0], [5, 1], [11, 3], [12, 1], [13, 11], [15, 10], [15, 13], [15, 14], [16, 6], [4], [7], [8], [9], [17], [18], [19]]\n"
     ]
    }
   ],
   "source": [
    "#testing functions above independently \n",
    "similarity_distance = [[0.0], [1.0, 0.0], [1.0, 1.4142135623730951, 0.0], [2.0, 1.7320508075688772, 1.7320508075688772, 0.0], [2.0, 1.7320508075688772, 2.23606797749979, 2.0, 0.0], [1.4142135623730951, 1.0, 1.7320508075688772, 4.0, 4.0, 0.0], [2.0, 1.7320508075688772, 2.23606797749979, 2.0, 2.0, 2.0, 0.0], [1.7320508075688772, 1.4142135623730951, 1.4142135623730951, 3.0, 3.0, 3.0, 5.0, 0.0], [1.7320508075688772, 2.0, 1.4142135623730951, 5.0, 5.0, 3.0, 5.0, 2.0, 0.0], [2.449489742783178, 2.23606797749979, 2.23606797749979, 2.0, 2.0, 4.0, 2.0, 3.0, 3.0, 0.0], [2.449489742783178, 2.6457513110645907, 2.23606797749979, 6.0, 8.0, 4.0, 4.0, 7.0, 3.0, 4.0, 0.0], [1.7320508075688772, 1.4142135623730951, 1.4142135623730951, 1.0, 3.0, 3.0, 3.0, 2.0, 4.0, 3.0, 5.0, 0.0], [2.0, 1.0, 2.23606797749979, 4.0, 4.0, 2.0, 4.0, 3.0, 7.0, 6.0, 10.0, 3.0, 0.0], [2.0, 1.7320508075688772, 1.7320508075688772, 2.0, 4.0, 2.0, 2.0, 3.0, 3.0, 2.0, 2.0, 1.0, 4.0, 0.0], [2.8284271247461903, 2.6457513110645907, 2.6457513110645907, 4.0, 6.0, 4.0, 2.0, 7.0, 5.0, 2.0, 2.0, 5.0, 8.0, 2.0, 0.0], [2.6457513110645907, 2.449489742783178, 2.449489742783178, 5.0, 7.0, 3.0, 3.0, 6.0, 4.0, 3.0, 1.0, 4.0, 7.0, 1.0, 1.0, 0.0], [2.6457513110645907, 2.0, 2.8284271247461903, 3.0, 3.0, 3.0, 1.0, 6.0, 8.0, 3.0, 7.0, 4.0, 3.0, 3.0, 3.0, 4.0, 0.0]]\n",
    "print(findMinDistPair(similarity_distance))"
   ]
  },
  {
   "cell_type": "code",
   "execution_count": 17,
   "metadata": {},
   "outputs": [
    {
     "name": "stdout",
     "output_type": "stream",
     "text": [
      "0.0\n",
      "[[15, 4], [16, 5], [19, 8]]\n",
      "[[15, 4], [16, 5], [19, 8], [0], [1], [2], [3], [6], [7], [9], [10], [11], [12], [13], [14], [17], [18]]\n"
     ]
    },
    {
     "data": {
      "text/plain": [
       "[[15, 4],\n",
       " [16, 5],\n",
       " [19, 8],\n",
       " [0],\n",
       " [1],\n",
       " [2],\n",
       " [3],\n",
       " [6],\n",
       " [7],\n",
       " [9],\n",
       " [10],\n",
       " [11],\n",
       " [12],\n",
       " [13],\n",
       " [14],\n",
       " [17],\n",
       " [18]]"
      ]
     },
     "execution_count": 17,
     "metadata": {},
     "output_type": "execute_result"
    }
   ],
   "source": [
    "#first pass \n",
    "\n",
    "#bining every data points into their own cluster\n",
    "cluster1 = []\n",
    "for i_row in range(0, df1.shape[0]):\n",
    "    cluster1.append([i_row])\n",
    "\n",
    "#find similarity matrix\n",
    "similarity_distance = findSimilarityMatrix(cluster1)\n",
    "findMinDistPair(similarity_distance)\n"
   ]
  },
  {
   "cell_type": "code",
   "execution_count": null,
   "metadata": {},
   "outputs": [],
   "source": [
    "#second pass \n"
   ]
  },
  {
   "cell_type": "code",
   "execution_count": null,
   "metadata": {},
   "outputs": [],
   "source": []
  }
 ],
 "metadata": {
  "kernelspec": {
   "display_name": "base",
   "language": "python",
   "name": "python3"
  },
  "language_info": {
   "codemirror_mode": {
    "name": "ipython",
    "version": 3
   },
   "file_extension": ".py",
   "mimetype": "text/x-python",
   "name": "python",
   "nbconvert_exporter": "python",
   "pygments_lexer": "ipython3",
   "version": "3.11.5"
  }
 },
 "nbformat": 4,
 "nbformat_minor": 2
}
